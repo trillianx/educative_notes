{
 "cells": [
  {
   "cell_type": "markdown",
   "metadata": {},
   "source": [
    "# Linked List Practice Problems"
   ]
  },
  {
   "cell_type": "markdown",
   "metadata": {
    "heading_collapsed": true
   },
   "source": [
    "# Write the Linked List Class"
   ]
  },
  {
   "cell_type": "code",
   "execution_count": null,
   "metadata": {
    "hidden": true
   },
   "outputs": [],
   "source": [
    "class Node():\n",
    "    def __init__(self, data=None):\n",
    "        self.data = data\n",
    "\n",
    "class LinkedList():\n",
    "    def __init__(self):\n",
    "        self.head = None"
   ]
  },
  {
   "cell_type": "markdown",
   "metadata": {
    "heading_collapsed": true
   },
   "source": [
    "# Write Insert at Head method"
   ]
  },
  {
   "cell_type": "code",
   "execution_count": 1,
   "metadata": {
    "ExecuteTime": {
     "end_time": "2020-12-10T19:13:01.098757Z",
     "start_time": "2020-12-10T19:13:01.095237Z"
    },
    "hidden": true
   },
   "outputs": [],
   "source": [
    "def isEmpty(self):\n",
    "    return self.head == None\n",
    "\n",
    "\n",
    "def insert_at_head(self, data):\n",
    "    new_node = Node(data)\n",
    "    new_node.next = self.head\n",
    "    self.head = new_node\n",
    "    return self.head        "
   ]
  },
  {
   "cell_type": "markdown",
   "metadata": {
    "heading_collapsed": true
   },
   "source": [
    "# Write Insert at Tail Method"
   ]
  },
  {
   "cell_type": "code",
   "execution_count": 2,
   "metadata": {
    "ExecuteTime": {
     "end_time": "2020-12-10T19:15:45.013879Z",
     "start_time": "2020-12-10T19:15:45.010236Z"
    },
    "hidden": true
   },
   "outputs": [],
   "source": [
    "def insert_at_tail(self, data):\n",
    "    if self.isEmpty():\n",
    "        self.insert_at_head(data)\n",
    "        return\n",
    "    \n",
    "    cur_node = self.head\n",
    "    while cur_node.next != None:\n",
    "        cur_node = cur_node.next\n",
    "        \n",
    "    new_node = Node(data)\n",
    "    cur_node.next = new_node\n",
    "    return"
   ]
  },
  {
   "cell_type": "markdown",
   "metadata": {
    "heading_collapsed": true
   },
   "source": [
    "# Find the Length of a Linked List"
   ]
  },
  {
   "cell_type": "code",
   "execution_count": 4,
   "metadata": {
    "ExecuteTime": {
     "end_time": "2020-12-10T19:21:36.276624Z",
     "start_time": "2020-12-10T19:21:36.273203Z"
    },
    "hidden": true
   },
   "outputs": [],
   "source": [
    "def get_length(self):\n",
    "    if self.isEmpty():\n",
    "        return 0\n",
    "    count = 0\n",
    "    cur_node = self.head\n",
    "    while cur_node != None:\n",
    "        cur_node = cur_node.next\n",
    "        count += 1\n",
    "    return count"
   ]
  },
  {
   "cell_type": "markdown",
   "metadata": {
    "heading_collapsed": true
   },
   "source": [
    "# Insert at Index"
   ]
  },
  {
   "cell_type": "code",
   "execution_count": 3,
   "metadata": {
    "ExecuteTime": {
     "end_time": "2020-12-10T19:19:32.987264Z",
     "start_time": "2020-12-10T19:19:32.983504Z"
    },
    "hidden": true
   },
   "outputs": [],
   "source": [
    "def insert_at_index(self, data, index):\n",
    "    length = self.get_length()\n",
    "    if length < index:\n",
    "        return None\n",
    "    cur_node = self.head\n",
    "    count = 0\n",
    "    while count < index:\n",
    "        prev = cur_node\n",
    "        cur_node = cur_node.next\n",
    "        count += 1\n",
    "    \n",
    "    new_node = Node(data)\n",
    "    prev.next = new_node\n",
    "    new_node.next = cur_node\n",
    "    return"
   ]
  },
  {
   "cell_type": "markdown",
   "metadata": {},
   "source": [
    "# Print the Linked List"
   ]
  },
  {
   "cell_type": "code",
   "execution_count": 5,
   "metadata": {
    "ExecuteTime": {
     "end_time": "2020-12-10T19:24:05.632612Z",
     "start_time": "2020-12-10T19:24:05.629434Z"
    }
   },
   "outputs": [],
   "source": [
    "def print_ll(self):\n",
    "    if self.isEmpty():\n",
    "        return None\n",
    "    cur_node = self.head\n",
    "    while cur_node != None:\n",
    "        print(cur_node.data)\n",
    "        cur_node = cur_node.next\n",
    "    return"
   ]
  },
  {
   "cell_type": "code",
   "execution_count": null,
   "metadata": {},
   "outputs": [],
   "source": []
  }
 ],
 "metadata": {
  "kernelspec": {
   "display_name": "Python 3",
   "language": "python",
   "name": "python3"
  },
  "language_info": {
   "codemirror_mode": {
    "name": "ipython",
    "version": 3
   },
   "file_extension": ".py",
   "mimetype": "text/x-python",
   "name": "python",
   "nbconvert_exporter": "python",
   "pygments_lexer": "ipython3",
   "version": "3.9.0"
  }
 },
 "nbformat": 4,
 "nbformat_minor": 4
}
